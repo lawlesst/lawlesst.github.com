{
 "cells": [
  {
   "cell_type": "code",
   "execution_count": 2,
   "metadata": {},
   "outputs": [],
   "source": [
    "import pandas as pd\n",
    "import json\n",
    "from SPARQLWrapper import SPARQLWrapper, JSON"
   ]
  },
  {
   "cell_type": "code",
   "execution_count": 3,
   "metadata": {},
   "outputs": [],
   "source": [
    "def get_sparql_dataframe(service, query):\n",
    "    \"\"\"\n",
    "    Helper function to convert SPARQL results into a Pandas data frame.\n",
    "    \"\"\"\n",
    "    sparql = SPARQLWrapper(service)\n",
    "    sparql.setQuery(query)\n",
    "    sparql.setReturnFormat(JSON)\n",
    "    result = sparql.query()\n",
    "\n",
    "    processed_results = json.load(result.response)\n",
    "    cols = processed_results['head']['vars']\n",
    "\n",
    "    out = []\n",
    "    for row in processed_results['results']['bindings']:\n",
    "        item = []\n",
    "        for c in cols:\n",
    "            item.append(row.get(c, {}).get('value'))\n",
    "        out.append(item)\n",
    "\n",
    "    return pd.DataFrame(out, columns=cols)"
   ]
  },
  {
   "cell_type": "code",
   "execution_count": 4,
   "metadata": {
    "collapsed": true
   },
   "outputs": [],
   "source": [
    "wds = \"https://query.wikidata.org/sparql\""
   ]
  },
  {
   "cell_type": "markdown",
   "metadata": {},
   "source": [
    "Query Wikidata for all individuals with an [ORCID](http://orcid.org) and retrieve the short desription if available."
   ]
  },
  {
   "cell_type": "code",
   "execution_count": 4,
   "metadata": {
    "collapsed": true
   },
   "outputs": [],
   "source": [
    "rq = \"\"\"\n",
    "PREFIX bd: <http://www.bigdata.com/rdf#>\n",
    "PREFIX wikibase: <http://wikiba.se/ontology#>\n",
    "PREFIX wdt: <http://www.wikidata.org/prop/direct/>\n",
    "PREFIX wos: <http://localhost/ontology/wos#>\n",
    "\n",
    " select distinct\n",
    "   ?item\n",
    "   ?itemLabel\n",
    "   ?orcid\n",
    "   ?description\n",
    "WHERE {\n",
    "  ?item wdt:P496 ?orcid \n",
    "  BIND(STRAFTER(str(?item), \"http://www.wikidata.org/entity/\") as ?wid)\n",
    "  OPTIONAL { ?item schema:description ?description filter (lang(?description) = \"en\") }\n",
    "  SERVICE wikibase:label {\n",
    "        bd:serviceParam wikibase:language \"en\" .\n",
    "  }\n",
    "}\n",
    "\"\"\""
   ]
  },
  {
   "cell_type": "code",
   "execution_count": 5,
   "metadata": {},
   "outputs": [],
   "source": [
    "df = get_sparql_dataframe(wds, rq)"
   ]
  },
  {
   "cell_type": "code",
   "execution_count": 6,
   "metadata": {
    "scrolled": false
   },
   "outputs": [
    {
     "data": {
      "text/html": [
       "<div>\n",
       "<style>\n",
       "    .dataframe thead tr:only-child th {\n",
       "        text-align: right;\n",
       "    }\n",
       "\n",
       "    .dataframe thead th {\n",
       "        text-align: left;\n",
       "    }\n",
       "\n",
       "    .dataframe tbody tr th {\n",
       "        vertical-align: top;\n",
       "    }\n",
       "</style>\n",
       "<table border=\"1\" class=\"dataframe\">\n",
       "  <thead>\n",
       "    <tr style=\"text-align: right;\">\n",
       "      <th></th>\n",
       "      <th>item</th>\n",
       "      <th>itemLabel</th>\n",
       "      <th>orcid</th>\n",
       "      <th>description</th>\n",
       "    </tr>\n",
       "  </thead>\n",
       "  <tbody>\n",
       "    <tr>\n",
       "      <th>0</th>\n",
       "      <td>http://www.wikidata.org/entity/Q505876</td>\n",
       "      <td>Francisco J. Ayala</td>\n",
       "      <td>0000-0001-6311-920X</td>\n",
       "      <td>Spanish-American philosopher and biologist</td>\n",
       "    </tr>\n",
       "    <tr>\n",
       "      <th>1</th>\n",
       "      <td>http://www.wikidata.org/entity/Q214119</td>\n",
       "      <td>Luciano Floridi</td>\n",
       "      <td>0000-0002-5444-2280</td>\n",
       "      <td>Italian philosopher</td>\n",
       "    </tr>\n",
       "    <tr>\n",
       "      <th>2</th>\n",
       "      <td>http://www.wikidata.org/entity/Q951559</td>\n",
       "      <td>Giulio Superti-Furga</td>\n",
       "      <td>0000-0002-0570-1768</td>\n",
       "      <td>Italian molecular and systems biologist</td>\n",
       "    </tr>\n",
       "    <tr>\n",
       "      <th>3</th>\n",
       "      <td>http://www.wikidata.org/entity/Q135180</td>\n",
       "      <td>Thomas Cech</td>\n",
       "      <td>0000-0001-7338-3389</td>\n",
       "      <td>Nobel laureate in chemistry</td>\n",
       "    </tr>\n",
       "    <tr>\n",
       "      <th>4</th>\n",
       "      <td>http://www.wikidata.org/entity/Q994491</td>\n",
       "      <td>Michael Jursa</td>\n",
       "      <td>0000-0003-2682-8933</td>\n",
       "      <td>Austrian assyriologist</td>\n",
       "    </tr>\n",
       "  </tbody>\n",
       "</table>\n",
       "</div>"
      ],
      "text/plain": [
       "                                     item             itemLabel  \\\n",
       "0  http://www.wikidata.org/entity/Q505876    Francisco J. Ayala   \n",
       "1  http://www.wikidata.org/entity/Q214119       Luciano Floridi   \n",
       "2  http://www.wikidata.org/entity/Q951559  Giulio Superti-Furga   \n",
       "3  http://www.wikidata.org/entity/Q135180           Thomas Cech   \n",
       "4  http://www.wikidata.org/entity/Q994491         Michael Jursa   \n",
       "\n",
       "                 orcid                                 description  \n",
       "0  0000-0001-6311-920X  Spanish-American philosopher and biologist  \n",
       "1  0000-0002-5444-2280                         Italian philosopher  \n",
       "2  0000-0002-0570-1768     Italian molecular and systems biologist  \n",
       "3  0000-0001-7338-3389                 Nobel laureate in chemistry  \n",
       "4  0000-0003-2682-8933                      Austrian assyriologist  "
      ]
     },
     "execution_count": 6,
     "metadata": {},
     "output_type": "execute_result"
    }
   ],
   "source": [
    "df.head()"
   ]
  },
  {
   "cell_type": "markdown",
   "metadata": {},
   "source": [
    "Describe the data returned. At the time of this query there were 44795 Wikidata entities."
   ]
  },
  {
   "cell_type": "code",
   "execution_count": 7,
   "metadata": {
    "scrolled": true
   },
   "outputs": [
    {
     "data": {
      "text/html": [
       "<div>\n",
       "<style>\n",
       "    .dataframe thead tr:only-child th {\n",
       "        text-align: right;\n",
       "    }\n",
       "\n",
       "    .dataframe thead th {\n",
       "        text-align: left;\n",
       "    }\n",
       "\n",
       "    .dataframe tbody tr th {\n",
       "        vertical-align: top;\n",
       "    }\n",
       "</style>\n",
       "<table border=\"1\" class=\"dataframe\">\n",
       "  <thead>\n",
       "    <tr style=\"text-align: right;\">\n",
       "      <th></th>\n",
       "      <th>item</th>\n",
       "      <th>itemLabel</th>\n",
       "      <th>orcid</th>\n",
       "      <th>description</th>\n",
       "    </tr>\n",
       "  </thead>\n",
       "  <tbody>\n",
       "    <tr>\n",
       "      <th>count</th>\n",
       "      <td>44795</td>\n",
       "      <td>44795</td>\n",
       "      <td>44795</td>\n",
       "      <td>5453</td>\n",
       "    </tr>\n",
       "    <tr>\n",
       "      <th>unique</th>\n",
       "      <td>44791</td>\n",
       "      <td>44619</td>\n",
       "      <td>44793</td>\n",
       "      <td>1792</td>\n",
       "    </tr>\n",
       "    <tr>\n",
       "      <th>top</th>\n",
       "      <td>http://www.wikidata.org/entity/Q38304648</td>\n",
       "      <td>Jun Wang</td>\n",
       "      <td>0000-0003-4842-1667</td>\n",
       "      <td>researcher</td>\n",
       "    </tr>\n",
       "    <tr>\n",
       "      <th>freq</th>\n",
       "      <td>2</td>\n",
       "      <td>5</td>\n",
       "      <td>2</td>\n",
       "      <td>2835</td>\n",
       "    </tr>\n",
       "  </tbody>\n",
       "</table>\n",
       "</div>"
      ],
      "text/plain": [
       "                                            item itemLabel  \\\n",
       "count                                      44795     44795   \n",
       "unique                                     44791     44619   \n",
       "top     http://www.wikidata.org/entity/Q38304648  Jun Wang   \n",
       "freq                                           2         5   \n",
       "\n",
       "                      orcid description  \n",
       "count                 44795        5453  \n",
       "unique                44793        1792  \n",
       "top     0000-0003-4842-1667  researcher  \n",
       "freq                      2        2835  "
      ]
     },
     "execution_count": 7,
     "metadata": {},
     "output_type": "execute_result"
    }
   ],
   "source": [
    "df.describe()"
   ]
  },
  {
   "cell_type": "markdown",
   "metadata": {},
   "source": [
    "Get a value count of the description field. This will show common titles for entities with ORCIDs.\n",
    "Note that no text normalization has been here. These are the raw values returned by Wikidata. "
   ]
  },
  {
   "cell_type": "code",
   "execution_count": 8,
   "metadata": {
    "scrolled": true
   },
   "outputs": [
    {
     "data": {
      "text/plain": [
       "researcher                     2835\n",
       "German physicist                 27\n",
       "American computer scientist      20\n",
       "German computer scientist        19\n",
       "American mathematician           18\n",
       "American chemist                 16\n",
       "German economist                 16\n",
       "British computer scientist       15\n",
       "American scientist               15\n",
       "British physicist                15\n",
       "Name: description, dtype: int64"
      ]
     },
     "execution_count": 8,
     "metadata": {},
     "output_type": "execute_result"
    }
   ],
   "source": [
    "df['description'].value_counts()[:10]"
   ]
  }
 ],
 "metadata": {
  "kernelspec": {
   "display_name": "Python 2",
   "language": "python",
   "name": "python2"
  },
  "language_info": {
   "codemirror_mode": {
    "name": "ipython",
    "version": 3
   },
   "file_extension": ".py",
   "mimetype": "text/x-python",
   "name": "python",
   "nbconvert_exporter": "python",
   "pygments_lexer": "ipython3",
   "version": "3.6.4"
  }
 },
 "nbformat": 4,
 "nbformat_minor": 2
}
