{
 "metadata": {
  "name": "",
  "signature": "sha256:ce4efbb057e9c6e601de56c13917cdf8b1c6777938157f7c7ab03aa4409a0a53"
 },
 "nbformat": 3,
 "nbformat_minor": 0,
 "worksheets": []
}